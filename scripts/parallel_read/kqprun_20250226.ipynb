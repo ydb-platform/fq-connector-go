{
 "cells": [
  {
   "cell_type": "code",
   "execution_count": null,
   "id": "0",
   "metadata": {},
   "outputs": [],
   "source": [
    "import pandas as pd\n",
    "import matplotlib.pyplot as plt\n",
    "from matplotlib.ticker import MultipleLocator\n",
    "\n",
    "data_size = 8450\n",
    "\n",
    "def make_localhost_df():\n",
    "    threads = [1, 2, 3, 4, 5, 6, 7, 8, 9, 10, 15]\n",
    "    latencies = [371, 224, 196, 176, 153, 119, 104, 116, 114, 105, 103]\n",
    "    df = pd.DataFrame({'thread': threads, 'latency': latencies})\n",
    "    df['throughput'] = data_size / df['latency']\n",
    "    return df\n",
    "\n",
    "\n",
    "def make_stand_df():\n",
    "    threads = [1, 2, 4, 8, 15, 20]\n",
    "    latencies = [539, 277, 164, 115, 97, 97]\n",
    "    df = pd.DataFrame({'thread': threads, 'latency': latencies})\n",
    "    df['throughput'] = data_size / df['latency']\n",
    "    return df\n",
    "\n",
    "df1 = make_localhost_df()\n",
    "df2 = make_stand_df()\n",
    "\n",
    "plt.figure(figsize=(7, 5))  # Optional: specify the figure size\n",
    "\n",
    "plt.plot(df1['thread'], df1['throughput'], label='kqprun nodes = 1\\nконнектор на ноутбуке (20 CPU max)')\n",
    "plt.plot(df2['thread'], df2['throughput'], label='kqprun nodes = 10\\nконнектор на стенде (15 CPU max)')\n",
    "plt.title('Скорость чтения через коннектор\\nколоночной таблицы YDB TPC-H S10 Lineitem')\n",
    "plt.gca().xaxis.set_major_locator(MultipleLocator(2))  # For x-axis\n",
    "plt.gca().yaxis.set_major_locator(MultipleLocator(10))  # For y-axi10\n",
    "\n",
    "\n",
    "plt.xlabel('Количество читающих потоков kqprun\\n(через pragma ydb.OverridePlanner)')\n",
    "plt.ylabel('Пропускная способность, МБ/с')\n",
    "plt.legend()\n",
    "plt.show()"
   ]
  },
  {
   "cell_type": "code",
   "execution_count": null,
   "id": "1",
   "metadata": {},
   "outputs": [],
   "source": []
  }
 ],
 "metadata": {
  "kernelspec": {
   "display_name": "Python 3 (ipykernel)",
   "language": "python",
   "name": "python3"
  },
  "language_info": {
   "codemirror_mode": {
    "name": "ipython",
    "version": 3
   },
   "file_extension": ".py",
   "mimetype": "text/x-python",
   "name": "python",
   "nbconvert_exporter": "python",
   "pygments_lexer": "ipython3",
   "version": "3.10.12"
  }
 },
 "nbformat": 4,
 "nbformat_minor": 5
}
