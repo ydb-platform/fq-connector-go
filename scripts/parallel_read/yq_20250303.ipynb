{
 "cells": [
  {
   "cell_type": "code",
   "execution_count": null,
   "id": "0",
   "metadata": {},
   "outputs": [],
   "source": [
    "import pandas as pd\n",
    "import matplotlib.pyplot as plt\n",
    "from matplotlib.ticker import FixedLocator\n",
    "\n",
    "data_size = 8450\n",
    "shards = ('64_shards', '256_shards', '512_shards')\n",
    "df = pd.read_csv(\"./yq_20250303.csv\")\n",
    "\n",
    "for name in shards:\n",
    "    df[name] = pd.to_timedelta(df[name]).apply(lambda x: x.seconds)\n",
    "\n",
    "plt.figure(figsize=(7, 5))  # Optional: specify the figure size\n",
    "\n",
    "for name in shards:\n",
    "    plt.scatter(df['threads'], data_size / df[name], label=name)\n",
    "    \n",
    "plt.title('Скорость чтения через коннектор\\nколоночной таблицы YDB TPC-H S10 Lineitem')\n",
    "# plt.gca().xaxis.set_major_locator(FixedLocator([2**i for i in range (1, 11)]))  # For x-axis\n",
    "plt.gca().set_xscale('log')\n",
    "\n",
    "\n",
    "plt.xlabel('Количество читающих потоков SLS YDB\\n(через pragma ydb.OverridePlanner)')\n",
    "plt.ylabel('Пропускная способность, МБ/с')\n",
    "plt.legend()\n",
    "plt.show()\n",
    "plt.savefig('/tmp/result.png')"
   ]
  },
  {
   "cell_type": "code",
   "execution_count": null,
   "id": "1",
   "metadata": {},
   "outputs": [],
   "source": []
  }
 ],
 "metadata": {
  "kernelspec": {
   "display_name": "Python 3 (ipykernel)",
   "language": "python",
   "name": "python3"
  },
  "language_info": {
   "codemirror_mode": {
    "name": "ipython",
    "version": 3
   },
   "file_extension": ".py",
   "mimetype": "text/x-python",
   "name": "python",
   "nbconvert_exporter": "python",
   "pygments_lexer": "ipython3",
   "version": "3.10.12"
  }
 },
 "nbformat": 4,
 "nbformat_minor": 5
}
