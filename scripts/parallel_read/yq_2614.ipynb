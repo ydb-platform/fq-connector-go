{
 "cells": [
  {
   "cell_type": "code",
   "execution_count": null,
   "id": "0",
   "metadata": {},
   "outputs": [],
   "source": [
    "import pandas as pd\n",
    "import matplotlib.pyplot as plt\n",
    "\n",
    "data = pd.read_csv(\"~/troubles/YQ-2614/dump.csv\")"
   ]
  },
  {
   "cell_type": "code",
   "execution_count": null,
   "id": "1",
   "metadata": {},
   "outputs": [],
   "source": [
    "query_args_value = \"[2025-05-24 16:00:00 +0000 UTC 2025-05-25 16:00:00 +0000 UTC]\"\n",
    "df = data[data[\"query_args\"] == query_args_value][[\"database_name\", \"query_text\", \"state\", \"elapsed_time_ms\", \"created_at\"]]\n",
    "df['duration_seconds'] = pd.to_timedelta(df['elapsed_time_ms'], unit='ms').dt.total_seconds()\n",
    "df = df.drop(\"elapsed_time_ms\", axis=1)\n",
    "df['tablet_id'] = df['query_text'].str.extract(r\"TabletId\\s*=\\s*'([^']+)'\")\n",
    "df = df.drop(\"query_text\", axis=1)\n",
    "df = df.sort_values('tablet_id')\n",
    "\n",
    "df['created_at'] = pd.to_datetime(df['created_at'], utc=True)\n",
    "start = pd.Timestamp('2025-05-26T00:00:00Z')\n",
    "df = df[df['created_at'] >= start]\n",
    "df"
   ]
  },
  {
   "cell_type": "code",
   "execution_count": null,
   "id": "2",
   "metadata": {},
   "outputs": [],
   "source": [
    "import matplotlib.ticker as mticker\n",
    "\n",
    "def format_seconds(x, pos=None):\n",
    "    seconds = int(x)\n",
    "    hours = seconds // 3600\n",
    "    remainder = seconds % 3600\n",
    "    minutes = remainder // 60\n",
    "    secs = remainder % 60\n",
    "    if hours > 0:\n",
    "        return f\"{hours}h {minutes:02d}m {secs:02d}s\"\n",
    "    elif minutes > 0:\n",
    "        return f\"{minutes}m {secs:02d}s\"\n",
    "    else:\n",
    "        return f\"{secs}s\"\n",
    "\n",
    "unique_dbs = sorted(df['database_name'].unique())\n",
    "n = len(unique_dbs)\n",
    "fig, axes = plt.subplots(1, n, figsize=(7*n, 6), sharey=True)\n",
    "fig.suptitle(\"Retrieving data from YDB Cloud Logging (GH issue #18802)\")    \n",
    "\n",
    "if n == 1:\n",
    "    axes = [axes]  # make iterable\n",
    "\n",
    "for ax, dbname in zip(axes, unique_dbs):\n",
    "    group = df[df['database_name'] == dbname].sort_values('tablet_id')\n",
    "    # Scatter plot of all points\n",
    "    group.plot.scatter(x=\"tablet_id\", y=\"duration_seconds\", ax=ax, label='Query latency (sample)')\n",
    "    ax.set_title(f\"Database: {dbname}\")\n",
    "    ax.set_xlabel(\"Tablet ID\")\n",
    "    ax.set_ylabel(\"Latency (seconds)\")\n",
    "    ax.set_xticklabels(ax.get_xticklabels(), rotation=90)\n",
    "    \n",
    "    # Compute and plot median per tablet_id (line)\n",
    "    medians = (\n",
    "        group.groupby(\"tablet_id\")[\"duration_seconds\"]\n",
    "        .median()\n",
    "        .reindex(sorted(group[\"tablet_id\"].unique()))\n",
    "    )\n",
    "    ax.plot(\n",
    "        medians.index, medians.values, 'r-', linewidth=1, marker='o', label='Query latency (median)'\n",
    "    )\n",
    "\n",
    "    ax.yaxis.set_major_formatter(mticker.FuncFormatter(format_seconds))\n",
    "\n",
    "    ax.legend()\n",
    "\n",
    "plt.tight_layout()\n",
    "plt.show()"
   ]
  },
  {
   "cell_type": "code",
   "execution_count": null,
   "id": "3",
   "metadata": {},
   "outputs": [],
   "source": []
  }
 ],
 "metadata": {
  "kernelspec": {
   "display_name": "Python 3 (ipykernel)",
   "language": "python",
   "name": "python3"
  },
  "language_info": {
   "codemirror_mode": {
    "name": "ipython",
    "version": 3
   },
   "file_extension": ".py",
   "mimetype": "text/x-python",
   "name": "python",
   "nbconvert_exporter": "python",
   "pygments_lexer": "ipython3",
   "version": "3.10.12"
  }
 },
 "nbformat": 4,
 "nbformat_minor": 5
}
