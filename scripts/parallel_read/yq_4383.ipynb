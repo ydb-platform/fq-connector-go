{
 "cells": [
  {
   "cell_type": "code",
   "execution_count": null,
   "id": "0",
   "metadata": {},
   "outputs": [],
   "source": [
    "import pandas as pd\n",
    "import matplotlib.pyplot as plt\n",
    "\n",
    "data = pd.read_csv(\"~/troubles/YQ-4383/dump.csv\")\n",
    "print(data.columns)"
   ]
  },
  {
   "cell_type": "code",
   "execution_count": null,
   "id": "1",
   "metadata": {},
   "outputs": [],
   "source": [
    "# df['duration_seconds'] = pd.to_timedelta(df['elapsed_time_ms'], unit='ms').dt.total_seconds()\n",
    "# df['created_at'] = pd.to_datetime(df['created_at'], utc=True)\n",
    "# start = pd.Timestamp('2025-05-26T00:00:00Z')\n",
    "# df = df[df['created_at'] >= start]\n",
    "# df\n",
    "\n",
    "query_args_value = \"[2025-06-24 01:01:01 +0000 UTC 2025-06-24 02:02:02 +0000 UTC]\"\n",
    "\n",
    "columns = [\"database_name\", \"query_text\", \"state\", \"elapsed_time_ms\", \"created_at\", \"rows_read\"]\n",
    "\n",
    "df = data[data[\"query_args\"] == query_args_value][columns]\n",
    "df['tablet_id'] = df['query_text'].str.extract(r\"TabletId\\s*=\\s*'([^']+)'\")\n",
    "df = df.drop(\"elapsed_time_ms\", axis=1)\n",
    "# df = df.drop(\"query_text\", axis=1)\n",
    "df = df.sort_values('tablet_id')\n",
    "\n",
    "print(df.groupby('tablet_id')['rows_read'].nunique().nlargest(3))\n",
    "\n",
    "bad_df = df[data[\"query_text\"].str.contains(\"72075186235526663\")]\n",
    "query_text = bad_df['query_text'].iloc[0]\n",
    "print(type(query_text))\n",
    "\n",
    "with open(\"/tmp/query_text.yql\", \"w\") as f:\n",
    "    f.write(query_text)\n",
    "\n",
    "bad_df.to_csv(\"/tmp/bad_df.csv\", index=False)\n"
   ]
  },
  {
   "cell_type": "code",
   "execution_count": null,
   "id": "2",
   "metadata": {},
   "outputs": [],
   "source": []
  },
  {
   "cell_type": "code",
   "execution_count": null,
   "id": "3",
   "metadata": {},
   "outputs": [],
   "source": []
  }
 ],
 "metadata": {
  "kernelspec": {
   "display_name": "venv",
   "language": "python",
   "name": "python3"
  },
  "language_info": {
   "codemirror_mode": {
    "name": "ipython",
    "version": 3
   },
   "file_extension": ".py",
   "mimetype": "text/x-python",
   "name": "python",
   "nbconvert_exporter": "python",
   "pygments_lexer": "ipython3",
   "version": "3.10.12"
  }
 },
 "nbformat": 4,
 "nbformat_minor": 5
}
